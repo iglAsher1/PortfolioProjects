{
 "cells": [
  {
   "cell_type": "markdown",
   "metadata": {},
   "source": [
    "# Clustering Algorithms"
   ]
  },
  {
   "cell_type": "markdown",
   "metadata": {},
   "source": [
    "## Assignment Overview"
   ]
  },
  {
   "cell_type": "markdown",
   "metadata": {},
   "source": [
    "### About the data:\n",
    "The Economist Democracy Index is an annual index compiled by the UK-based magazine, The Economist,   \n",
    "through its Economist Intelligence Unit (EIU). This index rates the state of democracy across countries worldwide.    \n",
    "  \n",
    "It is based on five categories:\n",
    "\n",
    "- **Electoral Process and Pluralism:**   \n",
    "This measures the fairness of elections, the freedom to form political parties, and the participation of various groups in the political process.  \n",
    "\n",
    "- **Functioning of Government:** This evaluates how effectively governments operate, the quality of governance, the level of corruption, and whether political decisions are made in a transparent manner. \n",
    "\n",
    "- **Political Participation:** This assesses the level of public involvement in politics, including voter turnout, membership in political parties, and engagement with political issues. \n",
    " \n",
    "- **Political Culture:** This looks at the societal norms and attitudes towards politics, including the extent to which different viewpoints are tolerated and the relationship between government and religion. \n",
    "\n",
    "- **Civil Liberties:** This gauges the extent of individual freedoms, including freedom of speech, freedom of the press, and the right to protest. \n",
    "\n",
    "\n",
    "**Countries are classified into four types of regimes based on their scores:**\n",
    " \n",
    "- Full democracies \n",
    "- Flawed democracies \n",
    "- Hybrid regimes \n",
    "- Authoritarian regimes \n",
    "\n",
    "The Democracy Index is widely referenced in political and academic circles as a comprehensive measure of the state of democracy globally.   \n",
    "It provides a snapshot of the health of democracy in each country and also allows for comparisons across countries and over time. \n",
    "\n",
    "[Additional information on Democracy Index ](https://en.wikipedia.org/wiki/The_Economist_Democracy_Index)"
   ]
  },
  {
   "cell_type": "markdown",
   "metadata": {},
   "source": [
    "### **Task 1:** Load the democracy index data set "
   ]
  },
  {
   "cell_type": "code",
   "execution_count": 9,
   "metadata": {},
   "outputs": [
    {
     "data": {
      "text/html": [
       "<div>\n",
       "<style scoped>\n",
       "    .dataframe tbody tr th:only-of-type {\n",
       "        vertical-align: middle;\n",
       "    }\n",
       "\n",
       "    .dataframe tbody tr th {\n",
       "        vertical-align: top;\n",
       "    }\n",
       "\n",
       "    .dataframe thead th {\n",
       "        text-align: right;\n",
       "    }\n",
       "</style>\n",
       "<table border=\"1\" class=\"dataframe\">\n",
       "  <thead>\n",
       "    <tr style=\"text-align: right;\">\n",
       "      <th></th>\n",
       "      <th>Unnamed: 0</th>\n",
       "      <th>rank</th>\n",
       "      <th>country</th>\n",
       "      <th>democracy_index</th>\n",
       "      <th>electoral_processand_pluralism</th>\n",
       "      <th>functioning_of_government</th>\n",
       "      <th>political_participation</th>\n",
       "      <th>political_culture</th>\n",
       "      <th>civil_liberties</th>\n",
       "      <th>category</th>\n",
       "    </tr>\n",
       "  </thead>\n",
       "  <tbody>\n",
       "    <tr>\n",
       "      <th>0</th>\n",
       "      <td>0</td>\n",
       "      <td>1</td>\n",
       "      <td>Norway</td>\n",
       "      <td>9.87</td>\n",
       "      <td>10.00</td>\n",
       "      <td>9.64</td>\n",
       "      <td>10.00</td>\n",
       "      <td>10.00</td>\n",
       "      <td>9.71</td>\n",
       "      <td>Full democracy</td>\n",
       "    </tr>\n",
       "    <tr>\n",
       "      <th>1</th>\n",
       "      <td>1</td>\n",
       "      <td>2</td>\n",
       "      <td>Iceland</td>\n",
       "      <td>9.58</td>\n",
       "      <td>10.00</td>\n",
       "      <td>9.29</td>\n",
       "      <td>8.89</td>\n",
       "      <td>10.00</td>\n",
       "      <td>9.71</td>\n",
       "      <td>Full democracy</td>\n",
       "    </tr>\n",
       "    <tr>\n",
       "      <th>2</th>\n",
       "      <td>2</td>\n",
       "      <td>3</td>\n",
       "      <td>Sweden</td>\n",
       "      <td>9.39</td>\n",
       "      <td>9.58</td>\n",
       "      <td>9.64</td>\n",
       "      <td>8.33</td>\n",
       "      <td>10.00</td>\n",
       "      <td>9.41</td>\n",
       "      <td>Full democracy</td>\n",
       "    </tr>\n",
       "    <tr>\n",
       "      <th>3</th>\n",
       "      <td>3</td>\n",
       "      <td>4</td>\n",
       "      <td>New Zealand</td>\n",
       "      <td>9.26</td>\n",
       "      <td>10.00</td>\n",
       "      <td>9.29</td>\n",
       "      <td>8.89</td>\n",
       "      <td>8.13</td>\n",
       "      <td>10.00</td>\n",
       "      <td>Full democracy</td>\n",
       "    </tr>\n",
       "    <tr>\n",
       "      <th>4</th>\n",
       "      <td>4</td>\n",
       "      <td>5</td>\n",
       "      <td>Denmark</td>\n",
       "      <td>9.22</td>\n",
       "      <td>10.00</td>\n",
       "      <td>9.29</td>\n",
       "      <td>8.33</td>\n",
       "      <td>9.38</td>\n",
       "      <td>9.12</td>\n",
       "      <td>Full democracy</td>\n",
       "    </tr>\n",
       "  </tbody>\n",
       "</table>\n",
       "</div>"
      ],
      "text/plain": [
       "   Unnamed: 0 rank      country  democracy_index  \\\n",
       "0           0    1       Norway             9.87   \n",
       "1           1    2      Iceland             9.58   \n",
       "2           2    3       Sweden             9.39   \n",
       "3           3    4  New Zealand             9.26   \n",
       "4           4    5      Denmark             9.22   \n",
       "\n",
       "   electoral_processand_pluralism  functioning_of_government  \\\n",
       "0                           10.00                       9.64   \n",
       "1                           10.00                       9.29   \n",
       "2                            9.58                       9.64   \n",
       "3                           10.00                       9.29   \n",
       "4                           10.00                       9.29   \n",
       "\n",
       "   political_participation  political_culture  civil_liberties        category  \n",
       "0                    10.00              10.00             9.71  Full democracy  \n",
       "1                     8.89              10.00             9.71  Full democracy  \n",
       "2                     8.33              10.00             9.41  Full democracy  \n",
       "3                     8.89               8.13            10.00  Full democracy  \n",
       "4                     8.33               9.38             9.12  Full democracy  "
      ]
     },
     "execution_count": 9,
     "metadata": {},
     "output_type": "execute_result"
    }
   ],
   "source": [
    "##Importing libraries for the project\n",
    "import pandas as pd\n",
    "import numpy as np\n",
    "import matplotlib.pyplot as plt\n",
    "import seaborn as sns\n",
    "\n",
    "##Reading in the .csv file\n",
    "df = pd.read_csv(\"democracy_index.csv\")\n",
    "\n",
    "##Head of dataset\n",
    "df.head()\n",
    "\n",
    "\n"
   ]
  },
  {
   "cell_type": "code",
   "execution_count": 3,
   "metadata": {},
   "outputs": [
    {
     "data": {
      "text/html": [
       "<div>\n",
       "<style scoped>\n",
       "    .dataframe tbody tr th:only-of-type {\n",
       "        vertical-align: middle;\n",
       "    }\n",
       "\n",
       "    .dataframe tbody tr th {\n",
       "        vertical-align: top;\n",
       "    }\n",
       "\n",
       "    .dataframe thead th {\n",
       "        text-align: right;\n",
       "    }\n",
       "</style>\n",
       "<table border=\"1\" class=\"dataframe\">\n",
       "  <thead>\n",
       "    <tr style=\"text-align: right;\">\n",
       "      <th></th>\n",
       "      <th>Unnamed: 0</th>\n",
       "      <th>democracy_index</th>\n",
       "      <th>electoral_processand_pluralism</th>\n",
       "      <th>functioning_of_government</th>\n",
       "      <th>political_participation</th>\n",
       "      <th>political_culture</th>\n",
       "      <th>civil_liberties</th>\n",
       "    </tr>\n",
       "  </thead>\n",
       "  <tbody>\n",
       "    <tr>\n",
       "      <th>count</th>\n",
       "      <td>167.00000</td>\n",
       "      <td>167.000000</td>\n",
       "      <td>167.000000</td>\n",
       "      <td>167.000000</td>\n",
       "      <td>167.00000</td>\n",
       "      <td>167.000000</td>\n",
       "      <td>167.000000</td>\n",
       "    </tr>\n",
       "    <tr>\n",
       "      <th>mean</th>\n",
       "      <td>83.00000</td>\n",
       "      <td>5.478563</td>\n",
       "      <td>5.902934</td>\n",
       "      <td>4.884671</td>\n",
       "      <td>5.24976</td>\n",
       "      <td>5.593952</td>\n",
       "      <td>5.768263</td>\n",
       "    </tr>\n",
       "    <tr>\n",
       "      <th>std</th>\n",
       "      <td>48.35287</td>\n",
       "      <td>2.199400</td>\n",
       "      <td>3.540180</td>\n",
       "      <td>2.522545</td>\n",
       "      <td>1.87654</td>\n",
       "      <td>1.647974</td>\n",
       "      <td>2.676157</td>\n",
       "    </tr>\n",
       "    <tr>\n",
       "      <th>min</th>\n",
       "      <td>0.00000</td>\n",
       "      <td>1.080000</td>\n",
       "      <td>0.000000</td>\n",
       "      <td>0.000000</td>\n",
       "      <td>1.11000</td>\n",
       "      <td>1.250000</td>\n",
       "      <td>0.000000</td>\n",
       "    </tr>\n",
       "    <tr>\n",
       "      <th>25%</th>\n",
       "      <td>41.50000</td>\n",
       "      <td>3.545000</td>\n",
       "      <td>3.000000</td>\n",
       "      <td>2.860000</td>\n",
       "      <td>3.89000</td>\n",
       "      <td>4.380000</td>\n",
       "      <td>3.530000</td>\n",
       "    </tr>\n",
       "    <tr>\n",
       "      <th>50%</th>\n",
       "      <td>83.00000</td>\n",
       "      <td>5.690000</td>\n",
       "      <td>6.580000</td>\n",
       "      <td>5.000000</td>\n",
       "      <td>5.56000</td>\n",
       "      <td>5.630000</td>\n",
       "      <td>5.880000</td>\n",
       "    </tr>\n",
       "    <tr>\n",
       "      <th>75%</th>\n",
       "      <td>124.50000</td>\n",
       "      <td>7.175000</td>\n",
       "      <td>9.170000</td>\n",
       "      <td>6.790000</td>\n",
       "      <td>6.67000</td>\n",
       "      <td>6.250000</td>\n",
       "      <td>8.240000</td>\n",
       "    </tr>\n",
       "    <tr>\n",
       "      <th>max</th>\n",
       "      <td>166.00000</td>\n",
       "      <td>9.870000</td>\n",
       "      <td>10.000000</td>\n",
       "      <td>9.640000</td>\n",
       "      <td>10.00000</td>\n",
       "      <td>10.000000</td>\n",
       "      <td>10.000000</td>\n",
       "    </tr>\n",
       "  </tbody>\n",
       "</table>\n",
       "</div>"
      ],
      "text/plain": [
       "       Unnamed: 0  democracy_index  electoral_processand_pluralism  \\\n",
       "count   167.00000       167.000000                      167.000000   \n",
       "mean     83.00000         5.478563                        5.902934   \n",
       "std      48.35287         2.199400                        3.540180   \n",
       "min       0.00000         1.080000                        0.000000   \n",
       "25%      41.50000         3.545000                        3.000000   \n",
       "50%      83.00000         5.690000                        6.580000   \n",
       "75%     124.50000         7.175000                        9.170000   \n",
       "max     166.00000         9.870000                       10.000000   \n",
       "\n",
       "       functioning_of_government  political_participation  political_culture  \\\n",
       "count                 167.000000                167.00000         167.000000   \n",
       "mean                    4.884671                  5.24976           5.593952   \n",
       "std                     2.522545                  1.87654           1.647974   \n",
       "min                     0.000000                  1.11000           1.250000   \n",
       "25%                     2.860000                  3.89000           4.380000   \n",
       "50%                     5.000000                  5.56000           5.630000   \n",
       "75%                     6.790000                  6.67000           6.250000   \n",
       "max                     9.640000                 10.00000          10.000000   \n",
       "\n",
       "       civil_liberties  \n",
       "count       167.000000  \n",
       "mean          5.768263  \n",
       "std           2.676157  \n",
       "min           0.000000  \n",
       "25%           3.530000  \n",
       "50%           5.880000  \n",
       "75%           8.240000  \n",
       "max          10.000000  "
      ]
     },
     "execution_count": 3,
     "metadata": {},
     "output_type": "execute_result"
    }
   ],
   "source": [
    "##Dataset summary\n",
    "\n",
    "df.describe()"
   ]
  },
  {
   "cell_type": "markdown",
   "metadata": {},
   "source": [
    "### **Task 2:**  Use the five categories to cluster countries into different regimes "
   ]
  },
  {
   "cell_type": "code",
   "execution_count": 4,
   "metadata": {},
   "outputs": [
    {
     "data": {
      "text/html": [
       "<div>\n",
       "<style scoped>\n",
       "    .dataframe tbody tr th:only-of-type {\n",
       "        vertical-align: middle;\n",
       "    }\n",
       "\n",
       "    .dataframe tbody tr th {\n",
       "        vertical-align: top;\n",
       "    }\n",
       "\n",
       "    .dataframe thead th {\n",
       "        text-align: right;\n",
       "    }\n",
       "</style>\n",
       "<table border=\"1\" class=\"dataframe\">\n",
       "  <thead>\n",
       "    <tr style=\"text-align: right;\">\n",
       "      <th>col_0</th>\n",
       "      <th>count</th>\n",
       "    </tr>\n",
       "    <tr>\n",
       "      <th>category</th>\n",
       "      <th></th>\n",
       "    </tr>\n",
       "  </thead>\n",
       "  <tbody>\n",
       "    <tr>\n",
       "      <th>Authoritarian</th>\n",
       "      <td>53</td>\n",
       "    </tr>\n",
       "    <tr>\n",
       "      <th>Flawed democracy</th>\n",
       "      <td>55</td>\n",
       "    </tr>\n",
       "    <tr>\n",
       "      <th>Full democracy</th>\n",
       "      <td>20</td>\n",
       "    </tr>\n",
       "    <tr>\n",
       "      <th>Hybrid regime</th>\n",
       "      <td>39</td>\n",
       "    </tr>\n",
       "  </tbody>\n",
       "</table>\n",
       "</div>"
      ],
      "text/plain": [
       "col_0             count\n",
       "category               \n",
       "Authoritarian        53\n",
       "Flawed democracy     55\n",
       "Full democracy       20\n",
       "Hybrid regime        39"
      ]
     },
     "execution_count": 4,
     "metadata": {},
     "output_type": "execute_result"
    }
   ],
   "source": [
    "## YOUR CODE HERE\n",
    "##Frequency of regime count\n",
    "regime_count = pd.crosstab(index=df[\"category\"], columns=\"count\")\n",
    "regime_count\n",
    "#regime_count.sum()"
   ]
  },
  {
   "cell_type": "code",
   "execution_count": 14,
   "metadata": {},
   "outputs": [
    {
     "data": {
      "text/plain": [
       "array([[ 9.87, 10.  ,  9.64, 10.  , 10.  ],\n",
       "       [ 9.58, 10.  ,  9.29,  8.89, 10.  ],\n",
       "       [ 9.39,  9.58,  9.64,  8.33, 10.  ],\n",
       "       [ 9.26, 10.  ,  9.29,  8.89,  8.13],\n",
       "       [ 9.22, 10.  ,  9.29,  8.33,  9.38],\n",
       "       [ 9.15,  9.58,  7.86,  8.33, 10.  ],\n",
       "       [ 9.15,  9.58,  9.64,  7.78,  8.75],\n",
       "       [ 9.14, 10.  ,  8.93,  8.33,  8.75],\n",
       "       [ 9.09, 10.  ,  8.93,  7.78,  8.75],\n",
       "       [ 9.03,  9.58,  9.29,  7.78,  9.38],\n",
       "       [ 8.89,  9.58,  9.29,  8.33,  8.13],\n",
       "       [ 8.81, 10.  ,  8.93,  6.67,  8.75],\n",
       "       [ 8.68,  9.58,  8.57,  8.33,  7.5 ],\n",
       "       [ 8.53,  9.58,  7.5 ,  8.33,  8.13],\n",
       "       [ 8.38, 10.  ,  8.57,  6.11,  7.5 ],\n",
       "       [ 8.29,  9.58,  7.86,  8.33,  6.88],\n",
       "       [ 8.22,  9.17,  8.21,  5.56,  8.75],\n",
       "       [ 8.21,  9.17,  8.21,  6.11,  8.75],\n",
       "       [ 8.08,  9.17,  7.14,  7.78,  7.5 ],\n",
       "       [ 8.07,  9.58,  7.5 ,  6.67,  7.5 ],\n",
       "       [ 8.  ,  9.17,  7.86,  7.22,  7.5 ],\n",
       "       [ 7.99,  8.75,  8.21,  6.67,  7.5 ],\n",
       "       [ 7.97,  9.58,  8.57,  4.44,  8.13],\n",
       "       [ 7.97,  9.58,  8.21,  6.67,  6.88],\n",
       "       [ 7.96,  9.17,  7.14,  7.78,  7.5 ],\n",
       "       [ 7.88,  9.17,  7.86,  6.67,  6.88],\n",
       "       [ 7.84,  9.58,  7.5 ,  6.11,  6.88],\n",
       "       [ 7.81,  9.17,  7.14,  6.11,  7.5 ],\n",
       "       [ 7.8 ,  9.58,  7.5 ,  7.78,  5.63],\n",
       "       [ 7.79,  9.17,  7.5 ,  8.89,  7.5 ],\n",
       "       [ 7.78,  9.58,  8.93,  5.  ,  6.88],\n",
       "       [ 7.73,  9.58,  8.21,  6.11,  5.63],\n",
       "       [ 7.71,  9.58,  6.07,  7.78,  6.88],\n",
       "       [ 7.69,  9.58,  6.79,  6.67,  6.88],\n",
       "       [ 7.59,  9.17,  6.43,  6.67,  6.88],\n",
       "       [ 7.5 ,  9.58,  6.79,  6.67,  6.25],\n",
       "       [ 7.5 ,  9.58,  6.43,  6.11,  6.25],\n",
       "       [ 7.38,  9.58,  6.07,  5.56,  6.88],\n",
       "       [ 7.29,  9.58,  5.36,  6.11,  6.88],\n",
       "       [ 7.24,  7.42,  7.5 ,  8.33,  5.  ],\n",
       "       [ 7.23,  9.17,  6.79,  7.22,  5.63],\n",
       "       [ 7.19,  9.08,  6.79,  5.56,  6.88],\n",
       "       [ 7.16,  9.58,  7.14,  6.11,  5.63],\n",
       "       [ 7.1 ,  9.58,  6.79,  5.56,  5.63],\n",
       "       [ 7.05,  9.58,  6.07,  6.67,  5.  ],\n",
       "       [ 7.03,  9.17,  6.43,  7.22,  4.38],\n",
       "       [ 7.02,  9.17,  5.36,  6.11,  6.25],\n",
       "       [ 7.02,  8.75,  7.14,  4.44,  6.25],\n",
       "       [ 6.98,  9.17,  6.43,  6.67,  5.  ],\n",
       "       [ 6.97,  9.58,  5.36,  6.67,  5.  ],\n",
       "       [ 6.96,  9.17,  6.79,  5.  ,  5.63],\n",
       "       [ 6.88,  7.75,  7.86,  6.67,  6.25],\n",
       "       [ 6.71,  9.17,  5.71,  7.22,  4.38],\n",
       "       [ 6.67,  9.17,  6.07,  6.11,  4.38],\n",
       "       [ 6.67,  9.17,  5.71,  6.11,  5.  ],\n",
       "       [ 6.64,  9.17,  5.  ,  6.67,  5.63],\n",
       "       [ 6.63,  8.33,  5.71,  6.67,  6.25],\n",
       "       [ 6.63,  8.75,  6.07,  5.  ,  6.25],\n",
       "       [ 6.6 ,  9.17,  5.  ,  5.56,  5.63],\n",
       "       [ 6.57,  9.17,  6.07,  5.56,  5.  ],\n",
       "       [ 6.54,  9.17,  5.36,  6.11,  5.  ],\n",
       "       [ 6.5 ,  9.17,  5.71,  5.56,  5.  ],\n",
       "       [ 6.41,  8.25,  5.36,  6.11,  5.  ],\n",
       "       [ 6.41,  6.42,  5.71,  7.78,  6.25],\n",
       "       [ 6.39,  6.92,  7.14,  6.67,  5.63],\n",
       "       [ 6.38,  4.33,  7.86,  6.11,  6.25],\n",
       "       [ 6.38,  9.17,  5.71,  5.  ,  4.38],\n",
       "       [ 6.27,  8.75,  5.36,  6.11,  4.38],\n",
       "       [ 6.25,  5.67,  5.36,  6.67,  5.63],\n",
       "       [ 6.24,  8.75,  5.71,  5.  ,  4.38],\n",
       "       [ 6.19,  7.83,  5.71,  5.  ,  6.25],\n",
       "       [ 6.19,  8.33,  6.07,  7.22,  3.13],\n",
       "       [ 6.15,  3.08,  6.07,  5.56,  7.5 ],\n",
       "       [ 6.15,  7.5 ,  6.07,  4.44,  6.25],\n",
       "       [ 6.03,  6.92,  6.07,  3.89,  5.63],\n",
       "       [ 5.98,  7.  ,  4.71,  5.56,  5.  ],\n",
       "       [ 5.96,  9.17,  4.29,  5.56,  3.75],\n",
       "       [ 5.87,  6.5 ,  5.36,  6.67,  3.75],\n",
       "       [ 5.85,  7.08,  4.64,  6.11,  4.38],\n",
       "       [ 5.85,  6.58,  5.36,  6.11,  5.63],\n",
       "       [ 5.74,  6.08,  5.36,  6.11,  4.38],\n",
       "       [ 5.74,  6.5 ,  5.71,  5.  ,  5.63],\n",
       "       [ 5.7 ,  7.5 ,  4.64,  5.56,  3.75],\n",
       "       [ 5.69,  6.17,  3.21,  6.67,  6.25],\n",
       "       [ 5.63,  8.5 ,  4.64,  4.44,  4.38],\n",
       "       [ 5.61,  6.17,  4.64,  3.89,  6.88],\n",
       "       [ 5.6 ,  7.92,  5.36,  3.89,  4.38],\n",
       "       [ 5.57,  7.83,  5.07,  5.56,  4.38],\n",
       "       [ 5.5 ,  7.83,  3.57,  6.11,  4.38],\n",
       "       [ 5.49,  6.58,  4.29,  4.44,  6.25],\n",
       "       [ 5.41,  7.  ,  5.  ,  5.  ,  5.63],\n",
       "       [ 5.41,  7.42,  3.93,  3.89,  5.63],\n",
       "       [ 5.35,  7.42,  2.57,  5.56,  5.63],\n",
       "       [ 5.3 ,  8.75,  6.79,  2.78,  4.38],\n",
       "       [ 5.22,  6.08,  3.57,  6.11,  5.63],\n",
       "       [ 5.2 ,  5.25,  3.57,  4.44,  6.88],\n",
       "       [ 5.18,  4.33,  5.36,  5.  ,  5.63],\n",
       "       [ 5.11,  3.5 ,  5.36,  6.67,  5.63],\n",
       "       [ 5.11,  6.58,  2.93,  6.67,  4.38],\n",
       "       [ 4.99,  5.25,  4.64,  5.  ,  5.63],\n",
       "       [ 4.98,  6.5 ,  2.93,  5.56,  3.75],\n",
       "       [ 4.91,  5.58,  2.93,  3.89,  6.25],\n",
       "       [ 4.79,  5.67,  4.64,  5.56,  2.5 ],\n",
       "       [ 4.75,  4.42,  4.29,  4.44,  5.63],\n",
       "       [ 4.66,  6.58,  1.86,  3.33,  6.25],\n",
       "       [ 4.63,  3.92,  2.21,  6.67,  5.63],\n",
       "       [ 4.63,  3.  ,  4.29,  5.  ,  5.  ],\n",
       "       [ 4.44,  6.08,  4.64,  3.33,  3.75],\n",
       "       [ 4.39,  3.83,  2.14,  7.78,  4.38],\n",
       "       [ 4.37,  4.5 ,  5.  ,  5.  ,  5.  ],\n",
       "       [ 4.31,  4.48,  4.29,  3.33,  5.63],\n",
       "       [ 4.17,  6.08,  5.36,  2.22,  2.5 ],\n",
       "       [ 4.15,  4.83,  2.86,  3.33,  5.63],\n",
       "       [ 4.06,  4.75,  0.07,  6.67,  5.  ],\n",
       "       [ 3.93,  3.58,  4.29,  3.89,  4.38],\n",
       "       [ 3.85,  3.58,  2.14,  5.  ,  5.  ],\n",
       "       [ 3.85,  3.17,  4.29,  3.89,  4.38],\n",
       "       [ 3.83,  3.67,  3.93,  3.89,  5.63],\n",
       "       [ 3.82,  3.  ,  3.57,  5.  ,  3.13],\n",
       "       [ 3.76,  5.25,  1.14,  3.33,  4.38],\n",
       "       [ 3.71,  4.33,  2.21,  4.44,  3.75],\n",
       "       [ 3.63,  2.67,  1.86,  3.89,  5.63],\n",
       "       [ 3.62,  1.75,  2.86,  5.56,  5.  ],\n",
       "       [ 3.61,  2.58,  2.21,  4.44,  5.  ],\n",
       "       [ 3.59,  1.33,  5.  ,  2.78,  5.63],\n",
       "       [ 3.5 ,  2.58,  2.21,  3.89,  5.  ],\n",
       "       [ 3.36,  3.58,  3.21,  3.33,  3.75],\n",
       "       [ 3.35,  0.  ,  3.57,  5.56,  5.  ],\n",
       "       [ 3.35,  1.67,  5.  ,  2.78,  4.38],\n",
       "       [ 3.32,  0.  ,  5.  ,  3.89,  6.25],\n",
       "       [ 3.31,  3.17,  2.5 ,  3.89,  3.75],\n",
       "       [ 3.28,  3.17,  2.86,  3.33,  4.38],\n",
       "       [ 3.19,  0.  ,  4.29,  2.22,  5.63],\n",
       "       [ 3.16,  0.5 ,  2.  ,  4.44,  5.63],\n",
       "       [ 3.16,  1.67,  1.79,  4.44,  4.38],\n",
       "       [ 3.14,  3.5 ,  0.43,  4.44,  4.38],\n",
       "       [ 3.13,  0.92,  2.86,  3.89,  5.63],\n",
       "       [ 3.1 ,  3.17,  0.79,  3.33,  5.  ],\n",
       "       [ 3.08,  0.  ,  3.21,  3.89,  5.63],\n",
       "       [ 3.04,  0.  ,  3.93,  2.78,  4.38],\n",
       "       [ 3.03,  0.92,  2.86,  2.22,  5.63],\n",
       "       [ 3.  ,  1.08,  3.57,  3.33,  4.38],\n",
       "       [ 2.97,  2.92,  1.14,  4.44,  2.5 ],\n",
       "       [ 2.94,  0.5 ,  2.14,  4.44,  4.38],\n",
       "       [ 2.94,  2.17,  1.79,  5.  ,  2.5 ],\n",
       "       [ 2.87,  0.42,  1.79,  3.89,  5.63],\n",
       "       [ 2.76,  0.  ,  3.93,  2.22,  5.  ],\n",
       "       [ 2.71,  0.83,  3.21,  2.78,  4.38],\n",
       "       [ 2.65,  0.5 ,  2.14,  3.33,  3.75],\n",
       "       [ 2.45,  0.  ,  3.21,  4.44,  3.13],\n",
       "       [ 2.37,  0.  ,  2.14,  1.67,  6.88],\n",
       "       [ 2.37,  0.83,  2.86,  1.67,  5.  ],\n",
       "       [ 2.33,  0.  ,  0.43,  3.89,  5.  ],\n",
       "       [ 2.19,  1.  ,  0.36,  1.67,  5.  ],\n",
       "       [ 2.15,  0.  ,  1.79,  2.78,  5.  ],\n",
       "       [ 2.01,  0.08,  1.86,  2.22,  5.  ],\n",
       "       [ 1.98,  1.67,  0.  ,  2.78,  3.13],\n",
       "       [ 1.95,  0.  ,  0.  ,  3.89,  5.  ],\n",
       "       [ 1.93,  0.  ,  2.86,  2.22,  3.13],\n",
       "       [ 1.93,  0.08,  0.79,  1.67,  6.25],\n",
       "       [ 1.92,  0.  ,  0.43,  3.33,  4.38],\n",
       "       [ 1.72,  0.  ,  0.79,  2.22,  5.  ],\n",
       "       [ 1.61,  0.  ,  0.  ,  1.67,  3.75],\n",
       "       [ 1.52,  2.25,  0.  ,  1.11,  1.88],\n",
       "       [ 1.49,  0.5 ,  0.71,  2.22,  3.13],\n",
       "       [ 1.43,  0.  ,  0.  ,  2.78,  4.38],\n",
       "       [ 1.08,  0.  ,  2.5 ,  1.67,  1.25]])"
      ]
     },
     "execution_count": 14,
     "metadata": {},
     "output_type": "execute_result"
    }
   ],
   "source": [
    "categories = df.iloc[:, [3, 4, 5, 6, 7]].values\n",
    "categories #The 5 categories that will be used to cluster in task 4 and 5"
   ]
  },
  {
   "cell_type": "code",
   "execution_count": 1,
   "metadata": {},
   "outputs": [],
   "source": [
    "##Pair plot \n",
    "#sns.set_style(\"whitegrid\")\n",
    "#sns.pairplot(df, hue=\"category\", size=7);\n",
    "#plt.show()"
   ]
  },
  {
   "cell_type": "markdown",
   "metadata": {},
   "source": [
    "### **Task 3:**  Preprocess the data (if necessary), such as normalizing or scaling the features \n",
    "**a:** Find out why we need to maintain a uniform scale across the variables for K-means and Hierarchical clustering  \n",
    "**b:** Do we need to use scaling techniques for this dataset? \n"
   ]
  },
  {
   "cell_type": "markdown",
   "metadata": {},
   "source": [
    "a. We need a uniform scale across variables because K-Means and Hierarchal clustering both measure based on Euclidean distances. Unnormalized distances can skew the data and prevent the clusters from being accurately displayed. This will ultimately give us inaccurate data.\n",
    "\n"
   ]
  },
  {
   "cell_type": "markdown",
   "metadata": {},
   "source": [
    "b. We do not need to use scaling techniques for this dataset because all values were obtained under the same set of rules. While there may be questions with three answers or questions that 'nulify' other answers, the point scoring system is unaffected and uniform for every country. Therefore, no data will be skewed and cause inaccuracies.\n"
   ]
  },
  {
   "cell_type": "markdown",
   "metadata": {},
   "source": [
    "### **Task 4:**  Implement K-means clustering to categorize the data into clusters \n",
    "**a:** Use elbow method to determine number of clusters   \n",
    "**b:** Verify if the solution offered by the elbow method and the actual soultion (number of regimes) match   \n",
    "**c:** Do we need to use elbow method to detrmine number of clusters for this dataset?   \n"
   ]
  },
  {
   "cell_type": "code",
   "execution_count": 48,
   "metadata": {},
   "outputs": [],
   "source": [
    "#a.\n",
    "#importing K-Means function for elbow method/plot\n",
    "from sklearn.cluster import KMeans\n",
    "wcss = []\n",
    "\n",
    "for i in range(1,25):\n",
    "    kmeans = KMeans(n_clusters=i, init='k-means++', max_iter=300,\n",
    "                   n_init=10, random_state=0)\n",
    "    kclusters = kmeans.fit_predict(categories)\n",
    "    wcss.append(kmeans.inertia_)\n",
    "#The for loop will loop to generate the kmeans inertia value and will be used to plot\n",
    "# an elbow method plot. "
   ]
  },
  {
   "cell_type": "code",
   "execution_count": 39,
   "metadata": {},
   "outputs": [
    {
     "data": {
      "image/png": "[encoded data removed]",
      "text/plain": [
       "<Figure size 432x288 with 1 Axes>"
      ]
     },
     "metadata": {
      "needs_background": "light"
     },
     "output_type": "display_data"
    }
   ],
   "source": [
    "plt.plot(range(1, 25), wcss) #Plot of the code ran above\n",
    "plt.xlabel('Number of clusters')\n",
    "plt.ylabel('WCSS') \n",
    "plt.show()\n",
    "\n",
    "#b.\n",
    "#We can see that the elbow starts to form a little before 5, therefore, \n",
    "#the actual solution and solution via the elbow method match.\n",
    "\n"
   ]
  },
  {
   "cell_type": "code",
   "execution_count": 43,
   "metadata": {},
   "outputs": [
    {
     "data": {
      "text/plain": [
       "array([0, 0, 0, 0, 0, 0, 0, 0, 0, 0, 0, 0, 0, 0, 0, 0, 0, 0, 0, 0, 0, 0,\n",
       "       0, 0, 0, 0, 0, 0, 4, 0, 0, 4, 4, 4, 4, 4, 4, 4, 4, 4, 4, 4, 4, 4,\n",
       "       4, 4, 4, 4, 4, 4, 4, 4, 4, 4, 4, 4, 4, 4, 4, 4, 4, 4, 4, 4, 4, 2,\n",
       "       4, 4, 2, 4, 4, 4, 2, 4, 2, 2, 4, 2, 2, 2, 2, 2, 2, 2, 2, 2, 2, 2,\n",
       "       2, 2, 2, 2, 2, 4, 2, 2, 2, 2, 2, 2, 2, 2, 2, 2, 2, 3, 3, 2, 3, 2,\n",
       "       2, 2, 3, 3, 3, 3, 3, 3, 3, 3, 3, 3, 3, 3, 1, 3, 3, 1, 1, 1, 3, 3,\n",
       "       1, 1, 3, 3, 1, 3, 1, 1, 1, 1, 3, 1, 3, 1, 1, 1, 1, 1, 1, 1, 1, 1,\n",
       "       1, 1, 1, 1, 1, 1, 1, 1, 1, 1, 1, 1, 1], dtype=int32)"
      ]
     },
     "execution_count": 43,
     "metadata": {},
     "output_type": "execute_result"
    }
   ],
   "source": [
    "kmeans5 = KMeans(n_clusters=5, init='k-means++', max_iter=300,\n",
    "                   n_init=10, random_state=0)\n",
    "k_means_clusters = kmeans5.fit_predict(categories)\n",
    "k_means_clusters\n"
   ]
  },
  {
   "cell_type": "markdown",
   "metadata": {},
   "source": [
    "c. \n",
    "For this dataset we do not need to use the elbow method because we already have the actual solution. However, it is important to visualize and confirm the solution at hand."
   ]
  },
  {
   "cell_type": "markdown",
   "metadata": {},
   "source": [
    "### **Task 5:**  Implement Hierarchical clustering using an appropriate linkage method \n",
    "**a:** Try different linkage criteria "
   ]
  },
  {
   "cell_type": "code",
   "execution_count": 44,
   "metadata": {},
   "outputs": [
    {
     "data": {
      "text/plain": [
       "array([4, 4, 4, 4, 4, 4, 4, 4, 4, 4, 4, 3, 3, 3, 3, 3, 3, 3, 3, 3, 3, 3,\n",
       "       3, 3, 3, 3, 3, 3, 3, 3, 3, 3, 3, 3, 3, 3, 3, 3, 2, 2, 3, 3, 3, 3,\n",
       "       2, 2, 2, 2, 2, 2, 2, 2, 2, 2, 2, 2, 2, 2, 2, 2, 2, 2, 2, 2, 2, 2,\n",
       "       2, 2, 2, 2, 2, 2, 2, 2, 2, 2, 2, 2, 2, 2, 2, 2, 2, 0, 2, 0, 2, 2,\n",
       "       2, 0, 2, 0, 0, 2, 0, 0, 0, 2, 0, 0, 0, 0, 2, 0, 0, 0, 0, 0, 0, 0,\n",
       "       0, 0, 0, 0, 0, 0, 0, 0, 0, 0, 0, 0, 1, 0, 1, 0, 0, 1, 1, 1, 0, 0,\n",
       "       1, 1, 1, 0, 1, 0, 1, 1, 1, 1, 0, 1, 0, 1, 1, 1, 1, 1, 1, 1, 1, 1,\n",
       "       1, 1, 1, 1, 1, 1, 1, 1, 1, 1, 1, 1, 1])"
      ]
     },
     "execution_count": 44,
     "metadata": {},
     "output_type": "execute_result"
    }
   ],
   "source": [
    "#import functions\n",
    "from sklearn.cluster import AgglomerativeClustering\n",
    "from scipy.cluster.hierarchy import dendrogram, linkage\n",
    "\n",
    "agg_clusters_w = AgglomerativeClustering(n_clusters=5, linkage='ward')\n",
    "ward_clusters = agg_clusters_w.fit_predict(categories)\n",
    "\n",
    "#Using 'ward' linkage\n",
    "ward_clusters\n"
   ]
  },
  {
   "cell_type": "code",
   "execution_count": 45,
   "metadata": {},
   "outputs": [
    {
     "data": {
      "image/png": "[encoded data removed]",
      "text/plain": [
       "<Figure size 432x288 with 1 Axes>"
      ]
     },
     "metadata": {
      "needs_background": "light"
     },
     "output_type": "display_data"
    }
   ],
   "source": [
    "#Generating 'ward' linkage dendrogram\n",
    "link_ward = linkage(categories, 'ward')\n",
    "\n",
    "\n",
    "dendrogram(link_ward, orientation='top')\n",
    "plt.show()"
   ]
  },
  {
   "cell_type": "code",
   "execution_count": 47,
   "metadata": {},
   "outputs": [
    {
     "data": {
      "text/plain": [
       "array([0, 0, 0, 0, 0, 0, 0, 0, 0, 0, 0, 0, 0, 0, 0, 0, 0, 0, 0, 0, 0, 0,\n",
       "       0, 0, 0, 0, 0, 0, 0, 0, 0, 0, 0, 0, 0, 0, 0, 0, 0, 0, 0, 0, 0, 0,\n",
       "       0, 0, 0, 0, 0, 0, 0, 0, 0, 0, 0, 0, 0, 0, 0, 0, 0, 0, 0, 0, 0, 3,\n",
       "       0, 0, 0, 0, 0, 0, 2, 0, 0, 0, 0, 0, 0, 0, 0, 0, 0, 0, 0, 0, 0, 0,\n",
       "       0, 0, 0, 0, 0, 0, 0, 0, 0, 0, 0, 0, 0, 0, 0, 0, 0, 0, 0, 1, 0, 0,\n",
       "       0, 1, 0, 4, 0, 0, 0, 0, 0, 0, 0, 0, 0, 0, 0, 0, 0, 0, 0, 0, 0, 0,\n",
       "       0, 0, 0, 0, 0, 0, 0, 0, 0, 0, 0, 0, 0, 0, 0, 0, 0, 0, 0, 0, 0, 0,\n",
       "       0, 0, 0, 0, 0, 0, 0, 0, 0, 0, 0, 0, 0])"
      ]
     },
     "execution_count": 47,
     "metadata": {},
     "output_type": "execute_result"
    }
   ],
   "source": [
    "#Using 'single' linkage\n",
    "agg_clusters_s = AgglomerativeClustering(n_clusters=5, linkage='single')\n",
    "single_clusters = agg_clusters.fit_predict(categories)\n",
    "\n",
    "single_clusters"
   ]
  },
  {
   "cell_type": "code",
   "execution_count": 46,
   "metadata": {},
   "outputs": [
    {
     "data": {
      "image/png": "[encoded data removed]",
      "text/plain": [
       "<Figure size 432x288 with 1 Axes>"
      ]
     },
     "metadata": {
      "needs_background": "light"
     },
     "output_type": "display_data"
    }
   ],
   "source": [
    "#Generating 'single' linkage dendrogram\n",
    "link_single = linkage(categories, 'single')\n",
    "\n",
    "\n",
    "dendrogram(link_single, orientation='top')\n",
    "plt.show()"
   ]
  },
  {
   "cell_type": "markdown",
   "metadata": {},
   "source": [
    "### **Task 6:** Plot the democracy index values\n",
    "\n",
    "For aforementioned methods generate the clustering solution. The clustering solution simply groups the countries into different groups   \n",
    "based on similarity. Once the solution is obtained, plot density plots of democracy index values considering all the countries within a group. \n"
   ]
  },
  {
   "cell_type": "code",
   "execution_count": 54,
   "metadata": {},
   "outputs": [
    {
     "data": {
      "text/html": [
       "<div>\n",
       "<style scoped>\n",
       "    .dataframe tbody tr th:only-of-type {\n",
       "        vertical-align: middle;\n",
       "    }\n",
       "\n",
       "    .dataframe tbody tr th {\n",
       "        vertical-align: top;\n",
       "    }\n",
       "\n",
       "    .dataframe thead th {\n",
       "        text-align: right;\n",
       "    }\n",
       "</style>\n",
       "<table border=\"1\" class=\"dataframe\">\n",
       "  <thead>\n",
       "    <tr style=\"text-align: right;\">\n",
       "      <th></th>\n",
       "      <th>country</th>\n",
       "      <th>democracy_index</th>\n",
       "      <th>cluster_labels</th>\n",
       "    </tr>\n",
       "  </thead>\n",
       "  <tbody>\n",
       "    <tr>\n",
       "      <th>0</th>\n",
       "      <td>Norway</td>\n",
       "      <td>9.87</td>\n",
       "      <td>0</td>\n",
       "    </tr>\n",
       "    <tr>\n",
       "      <th>1</th>\n",
       "      <td>Iceland</td>\n",
       "      <td>9.58</td>\n",
       "      <td>0</td>\n",
       "    </tr>\n",
       "    <tr>\n",
       "      <th>2</th>\n",
       "      <td>Sweden</td>\n",
       "      <td>9.39</td>\n",
       "      <td>0</td>\n",
       "    </tr>\n",
       "    <tr>\n",
       "      <th>3</th>\n",
       "      <td>New Zealand</td>\n",
       "      <td>9.26</td>\n",
       "      <td>0</td>\n",
       "    </tr>\n",
       "    <tr>\n",
       "      <th>4</th>\n",
       "      <td>Denmark</td>\n",
       "      <td>9.22</td>\n",
       "      <td>0</td>\n",
       "    </tr>\n",
       "    <tr>\n",
       "      <th>...</th>\n",
       "      <td>...</td>\n",
       "      <td>...</td>\n",
       "      <td>...</td>\n",
       "    </tr>\n",
       "    <tr>\n",
       "      <th>162</th>\n",
       "      <td>Chad</td>\n",
       "      <td>1.61</td>\n",
       "      <td>1</td>\n",
       "    </tr>\n",
       "    <tr>\n",
       "      <th>163</th>\n",
       "      <td>Central African Republic</td>\n",
       "      <td>1.52</td>\n",
       "      <td>1</td>\n",
       "    </tr>\n",
       "    <tr>\n",
       "      <th>164</th>\n",
       "      <td>Democratic Republic of the Congo</td>\n",
       "      <td>1.49</td>\n",
       "      <td>1</td>\n",
       "    </tr>\n",
       "    <tr>\n",
       "      <th>165</th>\n",
       "      <td>Syria</td>\n",
       "      <td>1.43</td>\n",
       "      <td>1</td>\n",
       "    </tr>\n",
       "    <tr>\n",
       "      <th>166</th>\n",
       "      <td>North Korea</td>\n",
       "      <td>1.08</td>\n",
       "      <td>1</td>\n",
       "    </tr>\n",
       "  </tbody>\n",
       "</table>\n",
       "<p>167 rows × 3 columns</p>\n",
       "</div>"
      ],
      "text/plain": [
       "                              country  democracy_index  cluster_labels\n",
       "0                              Norway             9.87               0\n",
       "1                             Iceland             9.58               0\n",
       "2                              Sweden             9.39               0\n",
       "3                         New Zealand             9.26               0\n",
       "4                             Denmark             9.22               0\n",
       "..                                ...              ...             ...\n",
       "162                              Chad             1.61               1\n",
       "163          Central African Republic             1.52               1\n",
       "164  Democratic Republic of the Congo             1.49               1\n",
       "165                             Syria             1.43               1\n",
       "166                       North Korea             1.08               1\n",
       "\n",
       "[167 rows x 3 columns]"
      ]
     },
     "execution_count": 54,
     "metadata": {},
     "output_type": "execute_result"
    }
   ],
   "source": [
    "df2 = df.assign(cluster_labels = k_means_clusters)\n",
    "\n",
    "df2[['country', 'democracy_index', 'cluster_labels']]\n",
    "#Putting the countries and their cluster labels, gathered from kMeans, togteher in a table "
   ]
  },
  {
   "cell_type": "code",
   "execution_count": 57,
   "metadata": {},
   "outputs": [
    {
     "data": {
      "text/plain": [
       "Text(0.5, 1.0, 'Density Plot of Democracy Index via KMeans')"
      ]
     },
     "execution_count": 57,
     "metadata": {},
     "output_type": "execute_result"
    },
    {
     "data": {
      "text/plain": [
       "<Figure size 900x600 with 0 Axes>"
      ]
     },
     "metadata": {},
     "output_type": "display_data"
    },
    {
     "data": {
      "image/png": "[encoded data removed]",
      "text/plain": [
       "<Figure size 436.625x360 with 1 Axes>"
      ]
     },
     "metadata": {
      "needs_background": "light"
     },
     "output_type": "display_data"
    }
   ],
   "source": [
    "#Density PLot for the country's democracy index and their cluster labels gathered from kMeans\n",
    "plt.figure(dpi=150)\n",
    "sns.displot(data=df2, x='democracy_index', hue='cluster_labels',kind='kde')\n",
    "plt.title('Density Plot of Democracy Index via KMeans')\n"
   ]
  }
 ],
 "metadata": {
  "kernelspec": {
   "display_name": "Python 3 (ipykernel)",
   "language": "python",
   "name": "python3"
  },
  "language_info": {
   "codemirror_mode": {
    "name": "ipython",
    "version": 3
   },
   "file_extension": ".py",
   "mimetype": "text/x-python",
   "name": "python",
   "nbconvert_exporter": "python",
   "pygments_lexer": "ipython3",
   "version": "3.11.7"
  }
 },
 "nbformat": 4,
 "nbformat_minor": 4
}
